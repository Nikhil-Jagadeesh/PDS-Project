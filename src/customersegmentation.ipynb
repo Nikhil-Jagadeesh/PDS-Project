{
 "cells": [
  {
   "cell_type": "code",
   "execution_count": 44,
   "id": "f1ff2b74",
   "metadata": {},
   "outputs": [],
   "source": [
    "import pandas as pd\n",
    "from sklearn.preprocessing import LabelEncoder, StandardScaler\n",
    "from sklearn.cluster import KMeans, DBSCAN, AgglomerativeClustering\n",
    "from sklearn.model_selection import train_test_split\n",
    "from sklearn.metrics import silhouette_score\n",
    "from sklearn.metrics import classification_report, accuracy_score, precision_score, f1_score, recall_score\n",
    "import joblib\n",
    "import matplotlib.pyplot as plt\n"
   ]
  },
  {
   "cell_type": "markdown",
   "id": "7fcd0d13",
   "metadata": {},
   "source": [
    "### Read Updated Dataset "
   ]
  },
  {
   "cell_type": "code",
   "execution_count": 2,
   "id": "87f1932d",
   "metadata": {},
   "outputs": [],
   "source": [
    "\n",
    "df = pd.read_csv('E-commerce Customer Behavior.csv')\n"
   ]
  },
  {
   "cell_type": "markdown",
   "id": "fe024ced",
   "metadata": {},
   "source": [
    "### Data Analysis"
   ]
  },
  {
   "cell_type": "code",
   "execution_count": 3,
   "id": "31f3bd2e",
   "metadata": {},
   "outputs": [
    {
     "data": {
      "text/html": [
       "<div>\n",
       "<style scoped>\n",
       "    .dataframe tbody tr th:only-of-type {\n",
       "        vertical-align: middle;\n",
       "    }\n",
       "\n",
       "    .dataframe tbody tr th {\n",
       "        vertical-align: top;\n",
       "    }\n",
       "\n",
       "    .dataframe thead th {\n",
       "        text-align: right;\n",
       "    }\n",
       "</style>\n",
       "<table border=\"1\" class=\"dataframe\">\n",
       "  <thead>\n",
       "    <tr style=\"text-align: right;\">\n",
       "      <th></th>\n",
       "      <th>Customer ID</th>\n",
       "      <th>Gender</th>\n",
       "      <th>Age</th>\n",
       "      <th>City</th>\n",
       "      <th>Membership Type</th>\n",
       "      <th>Total Spend</th>\n",
       "      <th>Items Purchased</th>\n",
       "      <th>Average Rating</th>\n",
       "      <th>Discount Applied</th>\n",
       "      <th>Days Since Last Purchase</th>\n",
       "      <th>Satisfaction Level</th>\n",
       "    </tr>\n",
       "  </thead>\n",
       "  <tbody>\n",
       "    <tr>\n",
       "      <th>0</th>\n",
       "      <td>101</td>\n",
       "      <td>Female</td>\n",
       "      <td>29</td>\n",
       "      <td>New York</td>\n",
       "      <td>Gold</td>\n",
       "      <td>1120.20</td>\n",
       "      <td>14</td>\n",
       "      <td>4.6</td>\n",
       "      <td>True</td>\n",
       "      <td>25</td>\n",
       "      <td>Satisfied</td>\n",
       "    </tr>\n",
       "    <tr>\n",
       "      <th>1</th>\n",
       "      <td>102</td>\n",
       "      <td>Male</td>\n",
       "      <td>34</td>\n",
       "      <td>Los Angeles</td>\n",
       "      <td>Silver</td>\n",
       "      <td>780.50</td>\n",
       "      <td>11</td>\n",
       "      <td>4.1</td>\n",
       "      <td>False</td>\n",
       "      <td>18</td>\n",
       "      <td>Neutral</td>\n",
       "    </tr>\n",
       "    <tr>\n",
       "      <th>2</th>\n",
       "      <td>103</td>\n",
       "      <td>Female</td>\n",
       "      <td>43</td>\n",
       "      <td>Chicago</td>\n",
       "      <td>Bronze</td>\n",
       "      <td>510.75</td>\n",
       "      <td>9</td>\n",
       "      <td>3.4</td>\n",
       "      <td>True</td>\n",
       "      <td>42</td>\n",
       "      <td>Unsatisfied</td>\n",
       "    </tr>\n",
       "    <tr>\n",
       "      <th>3</th>\n",
       "      <td>104</td>\n",
       "      <td>Male</td>\n",
       "      <td>30</td>\n",
       "      <td>San Francisco</td>\n",
       "      <td>Gold</td>\n",
       "      <td>1480.30</td>\n",
       "      <td>19</td>\n",
       "      <td>4.7</td>\n",
       "      <td>False</td>\n",
       "      <td>12</td>\n",
       "      <td>Satisfied</td>\n",
       "    </tr>\n",
       "    <tr>\n",
       "      <th>4</th>\n",
       "      <td>105</td>\n",
       "      <td>Male</td>\n",
       "      <td>27</td>\n",
       "      <td>Miami</td>\n",
       "      <td>Silver</td>\n",
       "      <td>720.40</td>\n",
       "      <td>13</td>\n",
       "      <td>4.0</td>\n",
       "      <td>True</td>\n",
       "      <td>55</td>\n",
       "      <td>Unsatisfied</td>\n",
       "    </tr>\n",
       "  </tbody>\n",
       "</table>\n",
       "</div>"
      ],
      "text/plain": [
       "   Customer ID  Gender  Age           City Membership Type  Total Spend  \\\n",
       "0          101  Female   29       New York            Gold      1120.20   \n",
       "1          102    Male   34    Los Angeles          Silver       780.50   \n",
       "2          103  Female   43        Chicago          Bronze       510.75   \n",
       "3          104    Male   30  San Francisco            Gold      1480.30   \n",
       "4          105    Male   27          Miami          Silver       720.40   \n",
       "\n",
       "   Items Purchased  Average Rating  Discount Applied  \\\n",
       "0               14             4.6              True   \n",
       "1               11             4.1             False   \n",
       "2                9             3.4              True   \n",
       "3               19             4.7             False   \n",
       "4               13             4.0              True   \n",
       "\n",
       "   Days Since Last Purchase Satisfaction Level  \n",
       "0                        25          Satisfied  \n",
       "1                        18            Neutral  \n",
       "2                        42        Unsatisfied  \n",
       "3                        12          Satisfied  \n",
       "4                        55        Unsatisfied  "
      ]
     },
     "execution_count": 3,
     "metadata": {},
     "output_type": "execute_result"
    }
   ],
   "source": [
    "\n",
    "df.head()\n"
   ]
  },
  {
   "cell_type": "code",
   "execution_count": 4,
   "id": "175649c1",
   "metadata": {},
   "outputs": [
    {
     "data": {
      "text/html": [
       "<div>\n",
       "<style scoped>\n",
       "    .dataframe tbody tr th:only-of-type {\n",
       "        vertical-align: middle;\n",
       "    }\n",
       "\n",
       "    .dataframe tbody tr th {\n",
       "        vertical-align: top;\n",
       "    }\n",
       "\n",
       "    .dataframe thead th {\n",
       "        text-align: right;\n",
       "    }\n",
       "</style>\n",
       "<table border=\"1\" class=\"dataframe\">\n",
       "  <thead>\n",
       "    <tr style=\"text-align: right;\">\n",
       "      <th></th>\n",
       "      <th>Customer ID</th>\n",
       "      <th>Gender</th>\n",
       "      <th>Age</th>\n",
       "      <th>City</th>\n",
       "      <th>Membership Type</th>\n",
       "      <th>Total Spend</th>\n",
       "      <th>Items Purchased</th>\n",
       "      <th>Average Rating</th>\n",
       "      <th>Discount Applied</th>\n",
       "      <th>Days Since Last Purchase</th>\n",
       "      <th>Satisfaction Level</th>\n",
       "    </tr>\n",
       "  </thead>\n",
       "  <tbody>\n",
       "    <tr>\n",
       "      <th>345</th>\n",
       "      <td>446</td>\n",
       "      <td>Male</td>\n",
       "      <td>32</td>\n",
       "      <td>Miami</td>\n",
       "      <td>Silver</td>\n",
       "      <td>660.30</td>\n",
       "      <td>10</td>\n",
       "      <td>3.8</td>\n",
       "      <td>True</td>\n",
       "      <td>42</td>\n",
       "      <td>Unsatisfied</td>\n",
       "    </tr>\n",
       "    <tr>\n",
       "      <th>346</th>\n",
       "      <td>447</td>\n",
       "      <td>Female</td>\n",
       "      <td>36</td>\n",
       "      <td>Houston</td>\n",
       "      <td>Bronze</td>\n",
       "      <td>470.50</td>\n",
       "      <td>8</td>\n",
       "      <td>3.0</td>\n",
       "      <td>False</td>\n",
       "      <td>27</td>\n",
       "      <td>Neutral</td>\n",
       "    </tr>\n",
       "    <tr>\n",
       "      <th>347</th>\n",
       "      <td>448</td>\n",
       "      <td>Female</td>\n",
       "      <td>30</td>\n",
       "      <td>New York</td>\n",
       "      <td>Gold</td>\n",
       "      <td>1190.80</td>\n",
       "      <td>16</td>\n",
       "      <td>4.5</td>\n",
       "      <td>True</td>\n",
       "      <td>28</td>\n",
       "      <td>Satisfied</td>\n",
       "    </tr>\n",
       "    <tr>\n",
       "      <th>348</th>\n",
       "      <td>449</td>\n",
       "      <td>Male</td>\n",
       "      <td>34</td>\n",
       "      <td>Los Angeles</td>\n",
       "      <td>Silver</td>\n",
       "      <td>780.20</td>\n",
       "      <td>11</td>\n",
       "      <td>4.2</td>\n",
       "      <td>False</td>\n",
       "      <td>21</td>\n",
       "      <td>Neutral</td>\n",
       "    </tr>\n",
       "    <tr>\n",
       "      <th>349</th>\n",
       "      <td>450</td>\n",
       "      <td>Female</td>\n",
       "      <td>43</td>\n",
       "      <td>Chicago</td>\n",
       "      <td>Bronze</td>\n",
       "      <td>515.75</td>\n",
       "      <td>10</td>\n",
       "      <td>3.3</td>\n",
       "      <td>True</td>\n",
       "      <td>49</td>\n",
       "      <td>Unsatisfied</td>\n",
       "    </tr>\n",
       "  </tbody>\n",
       "</table>\n",
       "</div>"
      ],
      "text/plain": [
       "     Customer ID  Gender  Age         City Membership Type  Total Spend  \\\n",
       "345          446    Male   32        Miami          Silver       660.30   \n",
       "346          447  Female   36      Houston          Bronze       470.50   \n",
       "347          448  Female   30     New York            Gold      1190.80   \n",
       "348          449    Male   34  Los Angeles          Silver       780.20   \n",
       "349          450  Female   43      Chicago          Bronze       515.75   \n",
       "\n",
       "     Items Purchased  Average Rating  Discount Applied  \\\n",
       "345               10             3.8              True   \n",
       "346                8             3.0             False   \n",
       "347               16             4.5              True   \n",
       "348               11             4.2             False   \n",
       "349               10             3.3              True   \n",
       "\n",
       "     Days Since Last Purchase Satisfaction Level  \n",
       "345                        42        Unsatisfied  \n",
       "346                        27            Neutral  \n",
       "347                        28          Satisfied  \n",
       "348                        21            Neutral  \n",
       "349                        49        Unsatisfied  "
      ]
     },
     "execution_count": 4,
     "metadata": {},
     "output_type": "execute_result"
    }
   ],
   "source": [
    "df.tail()"
   ]
  },
  {
   "cell_type": "code",
   "execution_count": 5,
   "id": "dc525d83",
   "metadata": {},
   "outputs": [
    {
     "data": {
      "text/html": [
       "<div>\n",
       "<style scoped>\n",
       "    .dataframe tbody tr th:only-of-type {\n",
       "        vertical-align: middle;\n",
       "    }\n",
       "\n",
       "    .dataframe tbody tr th {\n",
       "        vertical-align: top;\n",
       "    }\n",
       "\n",
       "    .dataframe thead th {\n",
       "        text-align: right;\n",
       "    }\n",
       "</style>\n",
       "<table border=\"1\" class=\"dataframe\">\n",
       "  <thead>\n",
       "    <tr style=\"text-align: right;\">\n",
       "      <th></th>\n",
       "      <th>Customer ID</th>\n",
       "      <th>Age</th>\n",
       "      <th>Total Spend</th>\n",
       "      <th>Items Purchased</th>\n",
       "      <th>Average Rating</th>\n",
       "      <th>Days Since Last Purchase</th>\n",
       "    </tr>\n",
       "  </thead>\n",
       "  <tbody>\n",
       "    <tr>\n",
       "      <th>count</th>\n",
       "      <td>350.000000</td>\n",
       "      <td>350.000000</td>\n",
       "      <td>350.000000</td>\n",
       "      <td>350.000000</td>\n",
       "      <td>350.000000</td>\n",
       "      <td>350.000000</td>\n",
       "    </tr>\n",
       "    <tr>\n",
       "      <th>mean</th>\n",
       "      <td>275.500000</td>\n",
       "      <td>33.597143</td>\n",
       "      <td>845.381714</td>\n",
       "      <td>12.600000</td>\n",
       "      <td>4.019143</td>\n",
       "      <td>26.588571</td>\n",
       "    </tr>\n",
       "    <tr>\n",
       "      <th>std</th>\n",
       "      <td>101.180532</td>\n",
       "      <td>4.870882</td>\n",
       "      <td>362.058695</td>\n",
       "      <td>4.155984</td>\n",
       "      <td>0.580539</td>\n",
       "      <td>13.440813</td>\n",
       "    </tr>\n",
       "    <tr>\n",
       "      <th>min</th>\n",
       "      <td>101.000000</td>\n",
       "      <td>26.000000</td>\n",
       "      <td>410.800000</td>\n",
       "      <td>7.000000</td>\n",
       "      <td>3.000000</td>\n",
       "      <td>9.000000</td>\n",
       "    </tr>\n",
       "    <tr>\n",
       "      <th>25%</th>\n",
       "      <td>188.250000</td>\n",
       "      <td>30.000000</td>\n",
       "      <td>502.000000</td>\n",
       "      <td>9.000000</td>\n",
       "      <td>3.500000</td>\n",
       "      <td>15.000000</td>\n",
       "    </tr>\n",
       "    <tr>\n",
       "      <th>50%</th>\n",
       "      <td>275.500000</td>\n",
       "      <td>32.500000</td>\n",
       "      <td>775.200000</td>\n",
       "      <td>12.000000</td>\n",
       "      <td>4.100000</td>\n",
       "      <td>23.000000</td>\n",
       "    </tr>\n",
       "    <tr>\n",
       "      <th>75%</th>\n",
       "      <td>362.750000</td>\n",
       "      <td>37.000000</td>\n",
       "      <td>1160.600000</td>\n",
       "      <td>15.000000</td>\n",
       "      <td>4.500000</td>\n",
       "      <td>38.000000</td>\n",
       "    </tr>\n",
       "    <tr>\n",
       "      <th>max</th>\n",
       "      <td>450.000000</td>\n",
       "      <td>43.000000</td>\n",
       "      <td>1520.100000</td>\n",
       "      <td>21.000000</td>\n",
       "      <td>4.900000</td>\n",
       "      <td>63.000000</td>\n",
       "    </tr>\n",
       "  </tbody>\n",
       "</table>\n",
       "</div>"
      ],
      "text/plain": [
       "       Customer ID         Age  Total Spend  Items Purchased  Average Rating  \\\n",
       "count   350.000000  350.000000   350.000000       350.000000      350.000000   \n",
       "mean    275.500000   33.597143   845.381714        12.600000        4.019143   \n",
       "std     101.180532    4.870882   362.058695         4.155984        0.580539   \n",
       "min     101.000000   26.000000   410.800000         7.000000        3.000000   \n",
       "25%     188.250000   30.000000   502.000000         9.000000        3.500000   \n",
       "50%     275.500000   32.500000   775.200000        12.000000        4.100000   \n",
       "75%     362.750000   37.000000  1160.600000        15.000000        4.500000   \n",
       "max     450.000000   43.000000  1520.100000        21.000000        4.900000   \n",
       "\n",
       "       Days Since Last Purchase  \n",
       "count                350.000000  \n",
       "mean                  26.588571  \n",
       "std                   13.440813  \n",
       "min                    9.000000  \n",
       "25%                   15.000000  \n",
       "50%                   23.000000  \n",
       "75%                   38.000000  \n",
       "max                   63.000000  "
      ]
     },
     "execution_count": 5,
     "metadata": {},
     "output_type": "execute_result"
    }
   ],
   "source": [
    "df.describe()"
   ]
  },
  {
   "cell_type": "code",
   "execution_count": 6,
   "id": "c0d492e5",
   "metadata": {},
   "outputs": [
    {
     "name": "stdout",
     "output_type": "stream",
     "text": [
      "['Female', 'Male']\n",
      "['Chicago', 'Houston', 'Los Angeles', 'Miami', 'New York', 'San Francisco']\n",
      "['Bronze', 'Gold', 'Silver']\n",
      "[False, True]\n",
      "['Neutral', 'Satisfied', 'Unsatisfied']\n"
     ]
    }
   ],
   "source": [
    "print(sorted(df['Gender'].unique()))\n",
    "print(sorted(df['City'].unique()))\n",
    "print(sorted(df['Membership Type'].unique()))\n",
    "print(sorted(df['Discount Applied'].unique()))\n",
    "print(sorted(df['Satisfaction Level'].unique()))"
   ]
  },
  {
   "cell_type": "markdown",
   "id": "4ff3b746",
   "metadata": {},
   "source": [
    "### Data Preprocessing"
   ]
  },
  {
   "cell_type": "code",
   "execution_count": 7,
   "id": "6cd43d63",
   "metadata": {},
   "outputs": [
    {
     "name": "stdout",
     "output_type": "stream",
     "text": [
      "<class 'pandas.core.frame.DataFrame'>\n",
      "RangeIndex: 350 entries, 0 to 349\n",
      "Data columns (total 11 columns):\n",
      " #   Column                    Non-Null Count  Dtype  \n",
      "---  ------                    --------------  -----  \n",
      " 0   Customer ID               350 non-null    int64  \n",
      " 1   Gender                    350 non-null    object \n",
      " 2   Age                       350 non-null    int64  \n",
      " 3   City                      350 non-null    object \n",
      " 4   Membership Type           350 non-null    object \n",
      " 5   Total Spend               350 non-null    float64\n",
      " 6   Items Purchased           350 non-null    int64  \n",
      " 7   Average Rating            350 non-null    float64\n",
      " 8   Discount Applied          350 non-null    bool   \n",
      " 9   Days Since Last Purchase  350 non-null    int64  \n",
      " 10  Satisfaction Level        350 non-null    object \n",
      "dtypes: bool(1), float64(2), int64(4), object(4)\n",
      "memory usage: 27.8+ KB\n"
     ]
    }
   ],
   "source": [
    "df.info()"
   ]
  },
  {
   "cell_type": "code",
   "execution_count": 8,
   "id": "39543c8f",
   "metadata": {},
   "outputs": [
    {
     "data": {
      "text/plain": [
       "Customer ID                 0\n",
       "Gender                      0\n",
       "Age                         0\n",
       "City                        0\n",
       "Membership Type             0\n",
       "Total Spend                 0\n",
       "Items Purchased             0\n",
       "Average Rating              0\n",
       "Discount Applied            0\n",
       "Days Since Last Purchase    0\n",
       "Satisfaction Level          0\n",
       "dtype: int64"
      ]
     },
     "execution_count": 8,
     "metadata": {},
     "output_type": "execute_result"
    }
   ],
   "source": [
    "df.isnull().sum()"
   ]
  },
  {
   "cell_type": "code",
   "execution_count": 9,
   "id": "f92cde84",
   "metadata": {},
   "outputs": [
    {
     "data": {
      "text/html": [
       "<div>\n",
       "<style scoped>\n",
       "    .dataframe tbody tr th:only-of-type {\n",
       "        vertical-align: middle;\n",
       "    }\n",
       "\n",
       "    .dataframe tbody tr th {\n",
       "        vertical-align: top;\n",
       "    }\n",
       "\n",
       "    .dataframe thead th {\n",
       "        text-align: right;\n",
       "    }\n",
       "</style>\n",
       "<table border=\"1\" class=\"dataframe\">\n",
       "  <thead>\n",
       "    <tr style=\"text-align: right;\">\n",
       "      <th></th>\n",
       "      <th>Gender</th>\n",
       "      <th>Age</th>\n",
       "      <th>City</th>\n",
       "      <th>Membership Type</th>\n",
       "      <th>Total Spend</th>\n",
       "      <th>Items Purchased</th>\n",
       "      <th>Average Rating</th>\n",
       "      <th>Discount Applied</th>\n",
       "      <th>Days Since Last Purchase</th>\n",
       "    </tr>\n",
       "  </thead>\n",
       "  <tbody>\n",
       "    <tr>\n",
       "      <th>0</th>\n",
       "      <td>0</td>\n",
       "      <td>29</td>\n",
       "      <td>4</td>\n",
       "      <td>1</td>\n",
       "      <td>1120.20</td>\n",
       "      <td>14</td>\n",
       "      <td>4.6</td>\n",
       "      <td>1</td>\n",
       "      <td>25</td>\n",
       "    </tr>\n",
       "    <tr>\n",
       "      <th>1</th>\n",
       "      <td>1</td>\n",
       "      <td>34</td>\n",
       "      <td>2</td>\n",
       "      <td>2</td>\n",
       "      <td>780.50</td>\n",
       "      <td>11</td>\n",
       "      <td>4.1</td>\n",
       "      <td>0</td>\n",
       "      <td>18</td>\n",
       "    </tr>\n",
       "    <tr>\n",
       "      <th>2</th>\n",
       "      <td>0</td>\n",
       "      <td>43</td>\n",
       "      <td>0</td>\n",
       "      <td>0</td>\n",
       "      <td>510.75</td>\n",
       "      <td>9</td>\n",
       "      <td>3.4</td>\n",
       "      <td>1</td>\n",
       "      <td>42</td>\n",
       "    </tr>\n",
       "    <tr>\n",
       "      <th>3</th>\n",
       "      <td>1</td>\n",
       "      <td>30</td>\n",
       "      <td>5</td>\n",
       "      <td>1</td>\n",
       "      <td>1480.30</td>\n",
       "      <td>19</td>\n",
       "      <td>4.7</td>\n",
       "      <td>0</td>\n",
       "      <td>12</td>\n",
       "    </tr>\n",
       "    <tr>\n",
       "      <th>4</th>\n",
       "      <td>1</td>\n",
       "      <td>27</td>\n",
       "      <td>3</td>\n",
       "      <td>2</td>\n",
       "      <td>720.40</td>\n",
       "      <td>13</td>\n",
       "      <td>4.0</td>\n",
       "      <td>1</td>\n",
       "      <td>55</td>\n",
       "    </tr>\n",
       "  </tbody>\n",
       "</table>\n",
       "</div>"
      ],
      "text/plain": [
       "   Gender  Age  City  Membership Type  Total Spend  Items Purchased  \\\n",
       "0       0   29     4                1      1120.20               14   \n",
       "1       1   34     2                2       780.50               11   \n",
       "2       0   43     0                0       510.75                9   \n",
       "3       1   30     5                1      1480.30               19   \n",
       "4       1   27     3                2       720.40               13   \n",
       "\n",
       "   Average Rating  Discount Applied  Days Since Last Purchase  \n",
       "0             4.6                 1                        25  \n",
       "1             4.1                 0                        18  \n",
       "2             3.4                 1                        42  \n",
       "3             4.7                 0                        12  \n",
       "4             4.0                 1                        55  "
      ]
     },
     "execution_count": 9,
     "metadata": {},
     "output_type": "execute_result"
    }
   ],
   "source": [
    "\n",
    "le = LabelEncoder()\n",
    "df['Gender'] = le.fit_transform(df['Gender'])\n",
    "df['City'] = le.fit_transform(df['City'])\n",
    "df['Membership Type'] = le.fit_transform(df['Membership Type'])\n",
    "df['Discount Applied'] = le.fit_transform(df['Discount Applied'])\n",
    "df['Satisfaction Level'] = le.fit_transform(df['Satisfaction Level'])\n",
    "\n",
    "features = df[['Gender', 'Age', 'City', 'Membership Type', 'Total Spend', 'Items Purchased', 'Average Rating', \n",
    "               'Discount Applied', 'Days Since Last Purchase']]\n",
    "\n",
    "features.head()\n"
   ]
  },
  {
   "cell_type": "code",
   "execution_count": 10,
   "id": "8730fd1d",
   "metadata": {},
   "outputs": [
    {
     "name": "stdout",
     "output_type": "stream",
     "text": [
      "[0, 1]\n",
      "[0, 1, 2, 3, 4, 5]\n",
      "[0, 1, 2]\n",
      "[0, 1]\n",
      "[0, 1, 2]\n"
     ]
    }
   ],
   "source": [
    "print(sorted(df['Gender'].unique()))\n",
    "print(sorted(df['City'].unique()))\n",
    "print(sorted(df['Membership Type'].unique()))\n",
    "print(sorted(df['Discount Applied'].unique()))\n",
    "print(sorted(df['Satisfaction Level'].unique()))"
   ]
  },
  {
   "cell_type": "code",
   "execution_count": 43,
   "id": "4dd5b990",
   "metadata": {},
   "outputs": [
    {
     "data": {
      "image/png": "[encoded data removed]",
      "text/plain": [
       "<Figure size 720x576 with 2 Axes>"
      ]
     },
     "metadata": {
      "needs_background": "light"
     },
     "output_type": "display_data"
    }
   ],
   "source": [
    "# Calculating correlations\n",
    "corr = features[['Age', 'Total Spend', 'Items Purchased', 'Average Rating', 'Days Since Last Purchase']].corr()\n",
    "\n",
    "# Plotting the heatmap using imshow\n",
    "plt.figure(figsize=(10, 8))\n",
    "cax = plt.imshow(corr, interpolation='nearest', cmap='coolwarm')\n",
    "plt.colorbar(cax)\n",
    "\n",
    "# Setting up the axes with labels\n",
    "labels = ['Age', 'Total Spend', 'Items Purchased', 'Average Rating', 'Days Since Last Purchase']\n",
    "plt.xticks(np.arange(len(labels)), labels, rotation=45)\n",
    "plt.yticks(np.arange(len(labels)), labels)\n",
    "\n",
    "# Adding annotations for the correlation values\n",
    "for i in range(len(labels)):\n",
    "    for j in range(len(labels)):\n",
    "        text = plt.text(j, i, f\"{corr.iloc[i, j]:.2f}\",\n",
    "                        ha=\"center\", va=\"center\", color=\"w\")\n",
    "\n",
    "plt.title('Correlation Heatmap of Numerical Features')\n",
    "plt.show()\n"
   ]
  },
  {
   "cell_type": "code",
   "execution_count": 41,
   "id": "1d45f884",
   "metadata": {},
   "outputs": [
    {
     "data": {
      "image/png": "[encoded data removed]",
      "text/plain": [
       "<Figure size 432x288 with 1 Axes>"
      ]
     },
     "metadata": {
      "needs_background": "light"
     },
     "output_type": "display_data"
    }
   ],
   "source": [
    "# Grouping by 'Membership Type' and calculating average spend\n",
    "avg_spend_by_membership = df.groupby('Membership Type')['Total Spend'].mean()\n",
    "\n",
    "# Plotting\n",
    "avg_spend_by_membership.plot(kind='bar', color='skyblue')\n",
    "plt.xlabel('Membership Type')\n",
    "plt.ylabel('Average Total Spend')\n",
    "plt.title('Average Total Spend by Membership Type')\n",
    "plt.xticks(rotation=0)  # Keeps the labels horizontal\n",
    "plt.show()\n"
   ]
  },
  {
   "cell_type": "markdown",
   "id": "7883ab44",
   "metadata": {},
   "source": [
    "### Features and Labels Seperation"
   ]
  },
  {
   "cell_type": "code",
   "execution_count": 12,
   "id": "e79ad6ba",
   "metadata": {},
   "outputs": [],
   "source": [
    "\n",
    "label = df[['Satisfaction Level']]\n"
   ]
  },
  {
   "cell_type": "markdown",
   "id": "24e6c124",
   "metadata": {},
   "source": [
    "### Splitting Data of Features and Labels into Train and Test Sets"
   ]
  },
  {
   "cell_type": "code",
   "execution_count": 28,
   "id": "9fa500e3",
   "metadata": {},
   "outputs": [
    {
     "name": "stdout",
     "output_type": "stream",
     "text": [
      "     Gender  Age  City  Membership Type  Total Spend  Items Purchased  \\\n",
      "228       1   35     2                2        820.9               12   \n",
      "78        0   30     4                1       1180.8               16   \n",
      "90        0   30     4                1       1190.8               16   \n",
      "16        1   26     3                2        700.6               12   \n",
      "66        0   32     4                1       1160.3               14   \n",
      "..      ...  ...   ...              ...          ...              ...   \n",
      "71        0   37     1                0        420.8                7   \n",
      "106       1   32     3                2        680.3               10   \n",
      "270       1   35     2                2        800.9               12   \n",
      "348       1   34     2                2        780.2               11   \n",
      "102       0   31     4                1       1130.6               15   \n",
      "\n",
      "     Average Rating  Discount Applied  Days Since Last Purchase  \n",
      "228             4.3                 0                        13  \n",
      "78              4.7                 1                        19  \n",
      "90              4.5                 1                        20  \n",
      "16              3.7                 1                        48  \n",
      "66              4.4                 1                        22  \n",
      "..              ...               ...                       ...  \n",
      "71              3.1                 0                        21  \n",
      "106             3.8                 1                        32  \n",
      "270             4.1                 0                        17  \n",
      "348             4.2                 0                        21  \n",
      "102             4.5                 1                        26  \n",
      "\n",
      "[280 rows x 9 columns]\n",
      "     Gender  Age  City  Membership Type  Total Spend  Items Purchased  \\\n",
      "157       1   35     2                2       810.90               12   \n",
      "341       0   31     4                1      1140.60               15   \n",
      "315       1   27     3                2       710.40               13   \n",
      "234       1   33     2                2       830.75               13   \n",
      "155       0   37     1                0       430.80                7   \n",
      "..      ...  ...   ...              ...          ...              ...   \n",
      "94        1   26     3                2       690.60               12   \n",
      "181       1   34     2                2       790.20               11   \n",
      "179       0   36     1                0       470.50                8   \n",
      "199       1   34     2                2       800.20               11   \n",
      "326       1   30     5                1      1450.50               19   \n",
      "\n",
      "     Average Rating  Discount Applied  Days Since Last Purchase  \n",
      "157             4.3                 0                        13  \n",
      "341             4.5                 1                        36  \n",
      "315             4.1                 1                        61  \n",
      "234             4.2                 0                        14  \n",
      "155             3.4                 0                        23  \n",
      "..              ...               ...                       ...  \n",
      "94              3.9                 1                        47  \n",
      "181             4.0                 0                        15  \n",
      "179             3.0                 0                        18  \n",
      "199             4.1                 0                        17  \n",
      "326             4.6                 0                        14  \n",
      "\n",
      "[70 rows x 9 columns]\n",
      "     Satisfaction Level\n",
      "228                   0\n",
      "78                    1\n",
      "90                    1\n",
      "16                    2\n",
      "66                    1\n",
      "..                  ...\n",
      "71                    0\n",
      "106                   2\n",
      "270                   0\n",
      "348                   0\n",
      "102                   1\n",
      "\n",
      "[280 rows x 1 columns]\n",
      "     Satisfaction Level\n",
      "157                   0\n",
      "341                   1\n",
      "315                   2\n",
      "234                   1\n",
      "155                   0\n",
      "..                  ...\n",
      "94                    2\n",
      "181                   0\n",
      "179                   0\n",
      "199                   0\n",
      "326                   1\n",
      "\n",
      "[70 rows x 1 columns]\n"
     ]
    }
   ],
   "source": [
    "\n",
    "X_train, X_test, y_train, y_test = train_test_split(features, label, test_size=0.2, random_state=42)\n",
    "print(X_train)\n",
    "print(X_test)\n"
   ]
  },
  {
   "cell_type": "code",
   "execution_count": 29,
   "id": "f5953788",
   "metadata": {},
   "outputs": [
    {
     "name": "stdout",
     "output_type": "stream",
     "text": [
      "     Satisfaction Level\n",
      "228                   0\n",
      "78                    1\n",
      "90                    1\n",
      "16                    2\n",
      "66                    1\n",
      "..                  ...\n",
      "71                    0\n",
      "106                   2\n",
      "270                   0\n",
      "348                   0\n",
      "102                   1\n",
      "\n",
      "[280 rows x 1 columns]\n",
      "     Satisfaction Level\n",
      "157                   0\n",
      "341                   1\n",
      "315                   2\n",
      "234                   1\n",
      "155                   0\n",
      "..                  ...\n",
      "94                    2\n",
      "181                   0\n",
      "179                   0\n",
      "199                   0\n",
      "326                   1\n",
      "\n",
      "[70 rows x 1 columns]\n"
     ]
    }
   ],
   "source": [
    "print(y_train)\n",
    "print(y_test)"
   ]
  },
  {
   "cell_type": "markdown",
   "id": "bf22538b",
   "metadata": {},
   "source": [
    "### Select and Apply Unsupervised Models"
   ]
  },
  {
   "cell_type": "markdown",
   "id": "193b7c67",
   "metadata": {},
   "source": [
    "### 1) DBSCAN"
   ]
  },
  {
   "cell_type": "code",
   "execution_count": 14,
   "id": "f063c00b",
   "metadata": {},
   "outputs": [],
   "source": [
    "dbscan = DBSCAN(eps=0.5, min_samples=5)"
   ]
  },
  {
   "cell_type": "code",
   "execution_count": 15,
   "id": "bfa11b8c",
   "metadata": {},
   "outputs": [
    {
     "data": {
      "text/plain": [
       "DBSCAN()"
      ]
     },
     "execution_count": 15,
     "metadata": {},
     "output_type": "execute_result"
    }
   ],
   "source": [
    "\n",
    "dbscan.fit(X_train)"
   ]
  },
  {
   "cell_type": "code",
   "execution_count": 16,
   "id": "ca15af35",
   "metadata": {},
   "outputs": [],
   "source": [
    "\n",
    "dbscan_labels = dbscan.fit_predict(X_test)"
   ]
  },
  {
   "cell_type": "code",
   "execution_count": 17,
   "id": "a58611b1",
   "metadata": {},
   "outputs": [
    {
     "name": "stdout",
     "output_type": "stream",
     "text": [
      "\n",
      "DBSCAN Evaluation:\n",
      "[-1 -1 -1 -1 -1 -1 -1 -1 -1 -1 -1 -1 -1 -1 -1 -1 -1 -1 -1 -1 -1 -1 -1 -1\n",
      " -1 -1 -1 -1 -1 -1 -1 -1 -1 -1 -1 -1 -1 -1 -1 -1 -1 -1 -1 -1 -1 -1 -1 -1\n",
      " -1 -1 -1 -1 -1 -1 -1 -1 -1 -1 -1 -1 -1 -1 -1 -1 -1 -1 -1 -1 -1 -1]\n",
      "Ytest Evaluation:\n",
      "[[0]\n",
      " [1]\n",
      " [2]\n",
      " [1]\n",
      " [0]\n",
      " [0]\n",
      " [0]\n",
      " [1]\n",
      " [1]\n",
      " [0]\n",
      " [1]\n",
      " [2]\n",
      " [1]\n",
      " [1]\n",
      " [0]\n",
      " [1]\n",
      " [2]\n",
      " [0]\n",
      " [2]\n",
      " [2]\n",
      " [1]\n",
      " [1]\n",
      " [2]\n",
      " [1]\n",
      " [2]\n",
      " [0]\n",
      " [0]\n",
      " [1]\n",
      " [1]\n",
      " [1]\n",
      " [0]\n",
      " [1]\n",
      " [2]\n",
      " [0]\n",
      " [0]\n",
      " [0]\n",
      " [1]\n",
      " [1]\n",
      " [0]\n",
      " [2]\n",
      " [0]\n",
      " [1]\n",
      " [2]\n",
      " [0]\n",
      " [2]\n",
      " [2]\n",
      " [1]\n",
      " [0]\n",
      " [0]\n",
      " [1]\n",
      " [1]\n",
      " [1]\n",
      " [1]\n",
      " [0]\n",
      " [0]\n",
      " [2]\n",
      " [2]\n",
      " [1]\n",
      " [1]\n",
      " [1]\n",
      " [2]\n",
      " [1]\n",
      " [1]\n",
      " [2]\n",
      " [2]\n",
      " [2]\n",
      " [0]\n",
      " [0]\n",
      " [0]\n",
      " [1]]\n"
     ]
    }
   ],
   "source": [
    "import numpy as np\n",
    "# # Evaluation for DBSCAN\n",
    "dbscan_labels = dbscan.fit_predict(X_test)\n",
    "print(\"\\nDBSCAN Evaluation:\")\n",
    "print(dbscan_labels)\n",
    "\n",
    "print(\"Ytest Evaluation:\")\n",
    "print(np.array(y_test))"
   ]
  },
  {
   "cell_type": "code",
   "execution_count": 18,
   "id": "e42ca060",
   "metadata": {},
   "outputs": [
    {
     "name": "stdout",
     "output_type": "stream",
     "text": [
      "Accuracy: 0.0\n",
      "Precision: 0.0\n",
      "Recall: 0.0\n",
      "F1 Score: 0.0\n",
      "Classification Report:\n",
      "              precision    recall  f1-score   support\n",
      "\n",
      "          -1       0.00      0.00      0.00       0.0\n",
      "           0       0.00      0.00      0.00      23.0\n",
      "           1       0.00      0.00      0.00      29.0\n",
      "           2       0.00      0.00      0.00      18.0\n",
      "\n",
      "    accuracy                           0.00      70.0\n",
      "   macro avg       0.00      0.00      0.00      70.0\n",
      "weighted avg       0.00      0.00      0.00      70.0\n",
      "\n"
     ]
    },
    {
     "name": "stderr",
     "output_type": "stream",
     "text": [
      "c:\\Users\\nikhi\\AppData\\Local\\Programs\\Python\\Python36\\lib\\site-packages\\sklearn\\metrics\\_classification.py:1248: UndefinedMetricWarning: Precision is ill-defined and being set to 0.0 in labels with no predicted samples. Use `zero_division` parameter to control this behavior.\n",
      "  _warn_prf(average, modifier, msg_start, len(result))\n",
      "c:\\Users\\nikhi\\AppData\\Local\\Programs\\Python\\Python36\\lib\\site-packages\\sklearn\\metrics\\_classification.py:1248: UndefinedMetricWarning: Recall is ill-defined and being set to 0.0 in labels with no true samples. Use `zero_division` parameter to control this behavior.\n",
      "  _warn_prf(average, modifier, msg_start, len(result))\n",
      "c:\\Users\\nikhi\\AppData\\Local\\Programs\\Python\\Python36\\lib\\site-packages\\sklearn\\metrics\\_classification.py:1248: UndefinedMetricWarning: Precision and F-score are ill-defined and being set to 0.0 in labels with no predicted samples. Use `zero_division` parameter to control this behavior.\n",
      "  _warn_prf(average, modifier, msg_start, len(result))\n",
      "c:\\Users\\nikhi\\AppData\\Local\\Programs\\Python\\Python36\\lib\\site-packages\\sklearn\\metrics\\_classification.py:1248: UndefinedMetricWarning: Recall and F-score are ill-defined and being set to 0.0 in labels with no true samples. Use `zero_division` parameter to control this behavior.\n",
      "  _warn_prf(average, modifier, msg_start, len(result))\n",
      "c:\\Users\\nikhi\\AppData\\Local\\Programs\\Python\\Python36\\lib\\site-packages\\sklearn\\metrics\\_classification.py:1248: UndefinedMetricWarning: Precision and F-score are ill-defined and being set to 0.0 in labels with no predicted samples. Use `zero_division` parameter to control this behavior.\n",
      "  _warn_prf(average, modifier, msg_start, len(result))\n",
      "c:\\Users\\nikhi\\AppData\\Local\\Programs\\Python\\Python36\\lib\\site-packages\\sklearn\\metrics\\_classification.py:1248: UndefinedMetricWarning: Recall and F-score are ill-defined and being set to 0.0 in labels with no true samples. Use `zero_division` parameter to control this behavior.\n",
      "  _warn_prf(average, modifier, msg_start, len(result))\n",
      "c:\\Users\\nikhi\\AppData\\Local\\Programs\\Python\\Python36\\lib\\site-packages\\sklearn\\metrics\\_classification.py:1248: UndefinedMetricWarning: Precision and F-score are ill-defined and being set to 0.0 in labels with no predicted samples. Use `zero_division` parameter to control this behavior.\n",
      "  _warn_prf(average, modifier, msg_start, len(result))\n",
      "c:\\Users\\nikhi\\AppData\\Local\\Programs\\Python\\Python36\\lib\\site-packages\\sklearn\\metrics\\_classification.py:1248: UndefinedMetricWarning: Recall and F-score are ill-defined and being set to 0.0 in labels with no true samples. Use `zero_division` parameter to control this behavior.\n",
      "  _warn_prf(average, modifier, msg_start, len(result))\n"
     ]
    }
   ],
   "source": [
    "\n",
    "print(\"Accuracy:\", accuracy_score(y_test, dbscan_labels))\n",
    "print(\"Precision:\", precision_score(y_test, dbscan_labels, average='weighted'))\n",
    "print(\"Recall:\", recall_score(y_test, dbscan_labels, average='weighted'))\n",
    "print(\"F1 Score:\", f1_score(y_test, dbscan_labels, average='weighted'))\n",
    "print(\"Classification Report:\")\n",
    "print(classification_report(y_test, dbscan_labels))"
   ]
  },
  {
   "cell_type": "code",
   "execution_count": 46,
   "id": "80c8add8",
   "metadata": {},
   "outputs": [
    {
     "data": {
      "image/png": "[encoded data removed]",
      "text/plain": [
       "<Figure size 720x504 with 2 Axes>"
      ]
     },
     "metadata": {
      "needs_background": "light"
     },
     "output_type": "display_data"
    }
   ],
   "source": [
    "import matplotlib.pyplot as plt\n",
    "from sklearn.decomposition import PCA\n",
    "import numpy as np\n",
    "\n",
    "# Assuming X_test is your dataset and dbscan_labels are the cluster labels from your model\n",
    "\n",
    "# Reduce the dimensionality for visualization\n",
    "pca = PCA(n_components=2)\n",
    "X_test_2d = pca.fit_transform(X_test)\n",
    "\n",
    "# Plotting the clusters\n",
    "plt.figure(figsize=(10, 7))\n",
    "unique_labels = np.unique(dbscan_labels)\n",
    "for label in unique_labels:\n",
    "    # Color and label noise points as black\n",
    "    if label == -1:\n",
    "        color = 'black'\n",
    "        marker = 'x'\n",
    "        alpha = 0.5\n",
    "    else:\n",
    "        color = plt.cm.jet(float(label) / max(dbscan_labels))\n",
    "        marker = 'o'\n",
    "        alpha = 0.7\n",
    "    plt.scatter(X_test_2d[dbscan_labels == label, 0], X_test_2d[dbscan_labels == label, 1], c=[color], \n",
    "                label=f'Cluster {label}', marker=marker, alpha=alpha)\n",
    "\n",
    "plt.title('DBSCAN Clustering')\n",
    "plt.xlabel('PCA Component 1')\n",
    "plt.ylabel('PCA Component 2')\n",
    "plt.legend()\n",
    "plt.colorbar(label='Cluster Label')\n",
    "plt.show()\n"
   ]
  },
  {
   "cell_type": "markdown",
   "id": "a2823ebe",
   "metadata": {},
   "source": [
    "### 2) Hierarchical Clustering"
   ]
  },
  {
   "cell_type": "code",
   "execution_count": 19,
   "id": "dec4c600",
   "metadata": {},
   "outputs": [],
   "source": [
    "\n",
    "hierarchical = AgglomerativeClustering(n_clusters=3)"
   ]
  },
  {
   "cell_type": "code",
   "execution_count": 20,
   "id": "9205d20f",
   "metadata": {},
   "outputs": [
    {
     "data": {
      "text/plain": [
       "AgglomerativeClustering(n_clusters=3)"
      ]
     },
     "execution_count": 20,
     "metadata": {},
     "output_type": "execute_result"
    }
   ],
   "source": [
    "\n",
    "hierarchical.fit(X_train)"
   ]
  },
  {
   "cell_type": "code",
   "execution_count": 21,
   "id": "c28082bb",
   "metadata": {},
   "outputs": [],
   "source": [
    "hierarchical_labels = hierarchical.fit_predict(X_test)"
   ]
  },
  {
   "cell_type": "code",
   "execution_count": 22,
   "id": "9f4353e4",
   "metadata": {},
   "outputs": [
    {
     "name": "stdout",
     "output_type": "stream",
     "text": [
      "\n",
      "Hierarchical Clustering Evaluation:\n",
      "Score: 0.7389726454874955\n",
      "Accuracy: 0.08571428571428572\n",
      "Precision: 0.0922016806722689\n",
      "Recall: 0.08571428571428572\n",
      "F1 Score: 0.0888133030990174\n",
      "Classification Report:\n",
      "              precision    recall  f1-score   support\n",
      "\n",
      "           0       0.00      0.00      0.00        23\n",
      "           1       0.04      0.03      0.04        29\n",
      "           2       0.29      0.28      0.29        18\n",
      "\n",
      "    accuracy                           0.09        70\n",
      "   macro avg       0.11      0.10      0.11        70\n",
      "weighted avg       0.09      0.09      0.09        70\n",
      "\n"
     ]
    }
   ],
   "source": [
    "\n",
    "# Evaluation for Hierarchical Clustering\n",
    "hierarchical_labels = hierarchical.fit_predict(X_test)\n",
    "print(\"\\nHierarchical Clustering Evaluation:\")\n",
    "print(\"Score:\", silhouette_score(X_test, hierarchical_labels))\n",
    "print(\"Accuracy:\", accuracy_score(y_test, hierarchical_labels))\n",
    "print(\"Precision:\", precision_score(y_test, hierarchical_labels, average='weighted'))\n",
    "print(\"Recall:\", recall_score(y_test, hierarchical_labels, average='weighted'))\n",
    "print(\"F1 Score:\", f1_score(y_test, hierarchical_labels, average='weighted'))\n",
    "print(\"Classification Report:\")\n",
    "print(classification_report(y_test, hierarchical_labels))\n"
   ]
  },
  {
   "cell_type": "code",
   "execution_count": 45,
   "id": "f485499b",
   "metadata": {},
   "outputs": [
    {
     "data": {
      "image/png": "[encoded data removed]",
      "text/plain": [
       "<Figure size 720x504 with 2 Axes>"
      ]
     },
     "metadata": {
      "needs_background": "light"
     },
     "output_type": "display_data"
    },
    {
     "data": {
      "image/png": "[encoded data removed]",
      "text/plain": [
       "<Figure size 720x504 with 1 Axes>"
      ]
     },
     "metadata": {
      "needs_background": "light"
     },
     "output_type": "display_data"
    }
   ],
   "source": [
    "import matplotlib.pyplot as plt\n",
    "from scipy.cluster.hierarchy import dendrogram, linkage\n",
    "from sklearn.decomposition import PCA\n",
    "\n",
    "# Reduce the dimensionality for visualization\n",
    "pca = PCA(n_components=2)\n",
    "X_test_2d = pca.fit_transform(X_test)\n",
    "\n",
    "# Plotting the clusters\n",
    "plt.figure(figsize=(10, 7))\n",
    "plt.scatter(X_test_2d[:, 0], X_test_2d[:, 1], c=hierarchical_labels, cmap='rainbow', alpha=0.7, edgecolors='b')\n",
    "plt.title('Visualization of Hierarchical Clustering')\n",
    "plt.xlabel('PCA Component 1')\n",
    "plt.ylabel('PCA Component 2')\n",
    "plt.colorbar(label='Cluster Label')\n",
    "plt.show()\n",
    "\n",
    "# Creating the dendrogram\n",
    "linked = linkage(X_test, 'single')\n",
    "plt.figure(figsize=(10, 7))\n",
    "dendrogram(linked, orientation='top', labels=hierarchical_labels, distance_sort='descending', show_leaf_counts=True)\n",
    "plt.title('Hierarchical Clustering Dendrogram')\n",
    "plt.xlabel('Sample Index')\n",
    "plt.ylabel('Distance')\n",
    "plt.show()\n"
   ]
  },
  {
   "cell_type": "markdown",
   "id": "b376b6ff",
   "metadata": {},
   "source": [
    "### 3) K-Means Clustering"
   ]
  },
  {
   "cell_type": "code",
   "execution_count": 23,
   "id": "c6a0ab7a",
   "metadata": {},
   "outputs": [],
   "source": [
    "\n",
    "kmeans = KMeans(n_clusters=3, random_state=42)\n"
   ]
  },
  {
   "cell_type": "markdown",
   "id": "4602eba6",
   "metadata": {},
   "source": [
    "#### Train Model"
   ]
  },
  {
   "cell_type": "code",
   "execution_count": 24,
   "id": "37dca927",
   "metadata": {},
   "outputs": [
    {
     "data": {
      "text/plain": [
       "KMeans(n_clusters=3, random_state=42)"
      ]
     },
     "execution_count": 24,
     "metadata": {},
     "output_type": "execute_result"
    }
   ],
   "source": [
    "\n",
    "kmeans.fit(X_train)"
   ]
  },
  {
   "cell_type": "markdown",
   "id": "fd44fe90",
   "metadata": {},
   "source": [
    "#### Models Evaluation"
   ]
  },
  {
   "cell_type": "code",
   "execution_count": 25,
   "id": "645f0da5",
   "metadata": {},
   "outputs": [
    {
     "name": "stdout",
     "output_type": "stream",
     "text": [
      "KMeans Evaluation:\n",
      "Score: 0.7389726454874955\n",
      "Accuracy: 0.6285714285714286\n",
      "Precision: 0.6344873949579832\n",
      "Recall: 0.6285714285714286\n",
      "F1 Score: 0.6310821697099893\n",
      "Classification Report:\n",
      "              precision    recall  f1-score   support\n",
      "\n",
      "           0       0.44      0.48      0.46        23\n",
      "           1       1.00      0.97      0.98        29\n",
      "           2       0.29      0.28      0.29        18\n",
      "\n",
      "    accuracy                           0.63        70\n",
      "   macro avg       0.58      0.57      0.58        70\n",
      "weighted avg       0.63      0.63      0.63        70\n",
      "\n"
     ]
    }
   ],
   "source": [
    "\n",
    "# Evaluation for KMeans\n",
    "kmeans_labels = kmeans.predict(X_test)\n",
    "print(\"KMeans Evaluation:\")\n",
    "print(\"Score:\", silhouette_score(X_test, kmeans_labels))\n",
    "print(\"Accuracy:\", accuracy_score(y_test, kmeans_labels))\n",
    "print(\"Precision:\", precision_score(y_test, kmeans_labels, average='weighted'))\n",
    "print(\"Recall:\", recall_score(y_test, kmeans_labels, average='weighted'))\n",
    "print(\"F1 Score:\", f1_score(y_test, kmeans_labels, average='weighted'))\n",
    "print(\"Classification Report:\")\n",
    "print(classification_report(y_test, kmeans_labels))\n",
    "\n"
   ]
  },
  {
   "cell_type": "code",
   "execution_count": 47,
   "id": "456e4dd7",
   "metadata": {},
   "outputs": [
    {
     "data": {
      "image/png": "[encoded data removed]",
      "text/plain": [
       "<Figure size 720x504 with 1 Axes>"
      ]
     },
     "metadata": {
      "needs_background": "light"
     },
     "output_type": "display_data"
    }
   ],
   "source": [
    "import matplotlib.pyplot as plt\n",
    "from sklearn.decomposition import PCA\n",
    "\n",
    "# Assuming X_test is your dataset and kmeans_labels are the cluster labels from your model\n",
    "\n",
    "# Reduce the dimensionality for visualization\n",
    "pca = PCA(n_components=2)\n",
    "X_test_2d = pca.fit_transform(X_test)\n",
    "\n",
    "# Plotting the clusters\n",
    "plt.figure(figsize=(10, 7))\n",
    "unique_labels = np.unique(kmeans_labels)\n",
    "colors = plt.cm.jet(np.linspace(0, 1, len(unique_labels)))\n",
    "\n",
    "for label, color in zip(unique_labels, colors):\n",
    "    plt.scatter(X_test_2d[kmeans_labels == label, 0], X_test_2d[kmeans_labels == label, 1], \n",
    "                c=[color], label=f'Cluster {label}', alpha=0.7)\n",
    "\n",
    "# Plotting centroids\n",
    "centroids_2d = pca.transform(kmeans.cluster_centers_)\n",
    "plt.scatter(centroids_2d[:, 0], centroids_2d[:, 1], s=100, c='black', marker='X', label='Centroids')\n",
    "\n",
    "plt.title('KMeans Clustering')\n",
    "plt.xlabel('PCA Component 1')\n",
    "plt.ylabel('PCA Component 2')\n",
    "plt.legend()\n",
    "plt.show()"
   ]
  },
  {
   "cell_type": "markdown",
   "id": "4a3f5bd4",
   "metadata": {},
   "source": [
    "### Comparison Graph"
   ]
  },
  {
   "cell_type": "code",
   "execution_count": 51,
   "id": "b78f5d0c",
   "metadata": {},
   "outputs": [
    {
     "data": {
      "image/png": "[encoded data removed]",
      "text/plain": [
       "<Figure size 504x360 with 1 Axes>"
      ]
     },
     "metadata": {
      "needs_background": "light"
     },
     "output_type": "display_data"
    }
   ],
   "source": [
    "\n",
    "DBSCAN_accuracy = accuracy_score(y_test, dbscan_labels)\n",
    "hierarchical_accuracy = accuracy_score(y_test, hierarchical_labels)\n",
    "kmeans_accuracy = accuracy_score(y_test, kmeans_labels)\n",
    "techniques = ['DBSCAN', 'Hierarchical Clustering', 'KMeans']\n",
    "accuracies = [DBSCAN_accuracy, hierarchical_accuracy, kmeans_accuracy]\n",
    "\n",
    "plt.figure(figsize=(7, 5))\n",
    "plt.bar(techniques, accuracies, color=['orange', 'blue', 'green'])\n",
    "plt.xlabel('Techniques')\n",
    "plt.ylabel('Score')\n",
    "plt.title('Comparison of Unsupervised Techniques')\n",
    "# plt.ylim(0, 2)  \n",
    "plt.show()\n"
   ]
  },
  {
   "cell_type": "markdown",
   "id": "2da8330f",
   "metadata": {},
   "source": [
    "### Dumping or Saving Our Main Model"
   ]
  },
  {
   "cell_type": "code",
   "execution_count": 27,
   "id": "92d806a6",
   "metadata": {},
   "outputs": [
    {
     "data": {
      "text/plain": [
       "['kmeans_model.pkl']"
      ]
     },
     "execution_count": 27,
     "metadata": {},
     "output_type": "execute_result"
    }
   ],
   "source": [
    "\n",
    "joblib.dump(kmeans, 'kmeans_model.pkl')\n"
   ]
  },
  {
   "cell_type": "code",
   "execution_count": null,
   "id": "8235242a",
   "metadata": {},
   "outputs": [],
   "source": []
  }
 ],
 "metadata": {
  "kernelspec": {
   "display_name": "Python 3",
   "language": "python",
   "name": "python3"
  },
  "language_info": {
   "codemirror_mode": {
    "name": "ipython",
    "version": 3
   },
   "file_extension": ".py",
   "mimetype": "text/x-python",
   "name": "python",
   "nbconvert_exporter": "python",
   "pygments_lexer": "ipython3",
   "version": "3.6.8"
  }
 },
 "nbformat": 4,
 "nbformat_minor": 5
}
